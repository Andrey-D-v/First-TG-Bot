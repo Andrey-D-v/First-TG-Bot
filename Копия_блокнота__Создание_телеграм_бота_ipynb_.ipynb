{
  "nbformat": 4,
  "nbformat_minor": 0,
  "metadata": {
    "colab": {
      "provenance": []
    },
    "kernelspec": {
      "name": "python3",
      "display_name": "Python 3"
    },
    "language_info": {
      "name": "python"
    }
  },
  "cells": [
    {
      "cell_type": "code",
      "source": [
        "pip install pytelegrambotapi"
      ],
      "metadata": {
        "id": "oLDarhv4zTC9",
        "outputId": "8ea17ed8-0f05-4219-84d2-918e4c98861f",
        "colab": {
          "base_uri": "https://localhost:8080/"
        }
      },
      "execution_count": 1,
      "outputs": [
        {
          "output_type": "stream",
          "name": "stdout",
          "text": [
            "Looking in indexes: https://pypi.org/simple, https://us-python.pkg.dev/colab-wheels/public/simple/\n",
            "Requirement already satisfied: pytelegrambotapi in /usr/local/lib/python3.8/dist-packages (4.10.0)\n",
            "Requirement already satisfied: requests in /usr/local/lib/python3.8/dist-packages (from pytelegrambotapi) (2.25.1)\n",
            "Requirement already satisfied: certifi>=2017.4.17 in /usr/local/lib/python3.8/dist-packages (from requests->pytelegrambotapi) (2022.12.7)\n",
            "Requirement already satisfied: idna<3,>=2.5 in /usr/local/lib/python3.8/dist-packages (from requests->pytelegrambotapi) (2.10)\n",
            "Requirement already satisfied: urllib3<1.27,>=1.21.1 in /usr/local/lib/python3.8/dist-packages (from requests->pytelegrambotapi) (1.26.14)\n",
            "Requirement already satisfied: chardet<5,>=3.0.2 in /usr/local/lib/python3.8/dist-packages (from requests->pytelegrambotapi) (4.0.0)\n"
          ]
        }
      ]
    },
    {
      "cell_type": "code",
      "source": [
        "import telebot\n",
        "import random"
      ],
      "metadata": {
        "id": "lu0qni_aL-Gz"
      },
      "execution_count": 2,
      "outputs": []
    },
    {
      "cell_type": "code",
      "source": [
        "#@title Вставьте токен бота сюда и нажмите слева запуск\n",
        "your_bot = \"6164554141:AAGyoAGufpKP1A_9KwyAdWQ9V7JSYcDMWCg\" #@param {type:\"string\"}\n",
        "print('Ваш бот запущен, проверьте в tg')"
      ],
      "metadata": {
        "id": "kxBnmAe4lB8B",
        "cellView": "form",
        "outputId": "abd0b909-a8e9-4240-ae7e-fc9d70243b8a",
        "colab": {
          "base_uri": "https://localhost:8080/"
        }
      },
      "execution_count": 3,
      "outputs": [
        {
          "output_type": "stream",
          "name": "stdout",
          "text": [
            "Ваш бот запущен, проверьте в tg\n"
          ]
        }
      ]
    },
    {
      "cell_type": "code",
      "source": [
        "bot = telebot.TeleBot(your_bot)"
      ],
      "metadata": {
        "id": "Mw9mlWGMSjXn"
      },
      "execution_count": 4,
      "outputs": []
    },
    {
      "cell_type": "code",
      "source": [
        "@bot.message_handler(commands=[\"start\"])\n",
        "def start(message, res=False):\n",
        "  bot.send_message(message.chat.id, 'Привет! Напиши сезон года и я отправлю тебе о нём смешные поговорки')"
      ],
      "metadata": {
        "id": "dTmJ0cR9VGV-"
      },
      "execution_count": 5,
      "outputs": []
    },
    {
      "cell_type": "code",
      "source": [
        "winter = ['Декабрь год кончает, а зиму начинает','Для тех, кто любит, и в декабре весна', 'Месяц январь — зимы государь','В январе морозы злее, а налим — живее', 'Январь ломонос — береги свой нос', 'У февраля два друга — метель и вьюга','Февраль — месяц лютый, спрашивает: как обутый', 'Бокогреюшка-февраль, он теплом обычно враль'] \n",
        "spring = ['И в марте мороз садится на нос','Зима лето пугает, да сама тает', 'Не гляди в небо, там нет хлеба, гляди на землю ниже, к хлебу ближе', 'Мартовское пиво с ног сбило', 'Ни в марте воды, ни в апреле травы', 'Апрель, апрель — на дворе звенит капель','Апрель воду подбирает, цветы раскрывает', 'Апрельский цветок ломает снежок', 'Апрельский скворец — весны гонец', 'Не ломай печей, пока апрель у плечей', 'Май холодный - год хлебородный','Пришел май - под кустиком рай', 'Пришел месяц май, коням корму дай, а сам кожух надевай да на печь полезай', 'Май на порог весну приволок']\n",
        "summer = ['В июне каждый кустик ночевать пустит','В июне первую ягоду в рот кладут, а вторую — домой несут', 'В июне на дворе пусто, да на поле густо', 'В июле жарко, а расставаться с ним жалко, в июле душно, а расставаться с ним скушно','В июле на поле густо, а в амбаре — пусто','Июль косит и жнет, долго спать не дает', 'Плясала бы баба, да макушка лета настала', 'Собьет июль с мужика спесь, коли некогда присесть', 'Август придет — свои порядки заведет','Август - каторга, да после будет маковка', 'В августе мужику дохнуть некогда: косить, возить, пахать и сеять', 'Августовская ночь длинна, вода — холодна', 'В августе баба хребет в поле гнет, да житье-то ей мед: дни короче, дольше ночи, ломота в спине, да разносол на столе']\n",
        "autumn = ['В сентябре днем погоже, да по утрам негоже','Сентябрь кафтан с плеч срывает, тулуп надевает', 'Сентябрь — пора мокропогодна и сверх прочих плодородна', 'В октябре ни на колесах, ни на санях', 'После октября летом не пахнет', 'В октябре с солнцем распрощайся,ближе к печке подбирайся', 'В ноябре мужик с телегой прощается, в сани забирается','Ноябрь гвоздит, а декабрь мостит']\n",
        "text2 = 'Опс, что-то пошло не так'"
      ],
      "metadata": {
        "id": "AA7iE2CBS3xS"
      },
      "execution_count": 6,
      "outputs": []
    },
    {
      "cell_type": "code",
      "source": [
        "@bot.message_handler(content_types=[\"text\"])\n",
        "def handle_text(message): \n",
        "  if message.text.strip().lower() == 'весна':\n",
        "    bot.send_message(message.chat.id, random.choice(spring))\n",
        "  elif message.text.strip().lower() == 'зима':\n",
        "    bot.send_message(message.chat.id, random.choice(winter))\n",
        "  elif message.text.strip().lower() == 'лето':\n",
        "    bot.send_message(message.chat.id, random.choice(summer))\n",
        "  elif message.text.strip().lower() == 'осень':\n",
        "    bot.send_message(message.chat.id, random.choice(autumn)) \n",
        "  else:\n",
        "    bot.send_message(message.chat.id, text2)"
      ],
      "metadata": {
        "id": "1FiFaPynU87i"
      },
      "execution_count": 7,
      "outputs": []
    },
    {
      "cell_type": "code",
      "source": [
        "# Запускаем бота\n",
        "bot.polling(none_stop=True, interval=0)"
      ],
      "metadata": {
        "id": "jJwNhUrkycze"
      },
      "execution_count": 8,
      "outputs": []
    }
  ]
}